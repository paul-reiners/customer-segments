{
 "cells": [
  {
   "cell_type": "markdown",
   "metadata": {},
   "source": [
    "# Creating Customer Segments"
   ]
  },
  {
   "cell_type": "markdown",
   "metadata": {},
   "source": [
    "In this project you, will analyze a dataset containing annual spending amounts for internal structure, to understand the variation in the different types of customers that a wholesale distributor interacts with.\n",
    "\n",
    "Instructions:\n",
    "\n",
    "- Run each code block below by pressing **Shift+Enter**, making sure to implement any steps marked with a TODO.\n",
    "- Answer each question in the space provided by editing the blocks labeled \"Answer:\".\n",
    "- When you are done, submit the completed notebook (.ipynb) with all code blocks executed, as well as a .pdf version (File > Download as)."
   ]
  },
  {
   "cell_type": "code",
   "execution_count": 21,
   "metadata": {
    "collapsed": false
   },
   "outputs": [
    {
     "name": "stdout",
     "output_type": "stream",
     "text": [
      "Dataset has 440 rows, 6 columns\n",
      "   Fresh  Milk  Grocery  Frozen  Detergents_Paper  Delicatessen\n",
      "0  12669  9656     7561     214              2674          1338\n",
      "1   7057  9810     9568    1762              3293          1776\n",
      "2   6353  8808     7684    2405              3516          7844\n",
      "3  13265  1196     4221    6404               507          1788\n",
      "4  22615  5410     7198    3915              1777          5185\n"
     ]
    }
   ],
   "source": [
    "# Import libraries: NumPy, pandas, matplotlib\n",
    "import numpy as np\n",
    "import pandas as pd\n",
    "import matplotlib.pyplot as plt\n",
    "from sklearn import preprocessing\n",
    "\n",
    "# Tell iPython to include plots inline in the notebook\n",
    "%matplotlib inline\n",
    "\n",
    "# Read dataset\n",
    "data = pd.read_csv(\"wholesale-customers.csv\")\n",
    "print \"Dataset has {} rows, {} columns\".format(*data.shape)\n",
    "print data.head()  # print the first 5 rows"
   ]
  },
  {
   "cell_type": "markdown",
   "metadata": {},
   "source": [
    "## Feature Transformation"
   ]
  },
  {
   "cell_type": "markdown",
   "metadata": {},
   "source": [
    "**1)** In this section you will be using PCA and ICA to start to understand the structure of the data. Before doing any computations, what do you think will show up in your computations? List one or two ideas for what might show up as the first PCA dimensions, or what type of vectors will show up as ICA dimensions."
   ]
  },
  {
   "cell_type": "markdown",
   "metadata": {},
   "source": [
    "Answer:  The features that maximize variance might show up as the first PCA dimensions.  Let's calculate the variance of each feature.  "
   ]
  },
  {
   "cell_type": "code",
   "execution_count": 22,
   "metadata": {
    "collapsed": false
   },
   "outputs": [
    {
     "name": "stdout",
     "output_type": "stream",
     "text": [
      "Fresh               0.012718\n",
      "Milk                0.010098\n",
      "Grocery             0.010492\n",
      "Frozen              0.006366\n",
      "Detergents_Paper    0.013640\n",
      "Delicatessen        0.003460\n",
      "dtype: float64\n"
     ]
    }
   ],
   "source": [
    "normalized_data = (data - data.mean()) / (data.max() - data.min())\n",
    "var = normalized_data.var()\n",
    "print var"
   ]
  },
  {
   "cell_type": "markdown",
   "metadata": {},
   "source": [
    "After [normalizing](http://stackoverflow.com/a/12525836/7648) we can see that Detergents_Paper has the highest variance.  So Detergents_Paper will be the first principal component.  Let's now [compute the covariance of Detergents_Paper with the other features]((http://stackoverflow.com/a/32787030/7648))."
   ]
  },
  {
   "cell_type": "code",
   "execution_count": 23,
   "metadata": {
    "collapsed": false
   },
   "outputs": [
    {
     "name": "stdout",
     "output_type": "stream",
     "text": [
      "Delicatessen    0.000476\n",
      "Fresh          -0.001343\n",
      "Frozen         -0.001226\n",
      "Grocery         0.011061\n",
      "Milk            0.007767\n",
      "dtype: float64\n"
     ]
    }
   ],
   "source": [
    "detergents_paper = 'Detergents_Paper'  \n",
    "s = pd.Series({grocery_type: normalized_data[detergents_paper].cov(normalized_data[grocery_type]) \n",
    "               for grocery_type in normalized_data \n",
    "               if grocery_type != detergents_paper})\n",
    "print s"
   ]
  },
  {
   "cell_type": "markdown",
   "metadata": {},
   "source": [
    "Here we can see that Grocery has the most covariance with Detergents_Paper.  So Detergents_Paper and Grocery are probably the first two principal components.  I found the article [\"Principal Component Analysis\"](https://stat.ethz.ch/education/semesters/ss2012/ams/slides/v5.pdf) helpful in answering this. \n",
    "\n",
    "Linear combinations of the features will show up as ICA dimensions.  These new features will maximize independence.  Each feature in this new feature set will be some linear combination of Fresh, Milk, Grocery, Frozen, Detergents_Paper, and Delicatessen."
   ]
  },
  {
   "cell_type": "markdown",
   "metadata": {},
   "source": [
    "### PCA "
   ]
  },
  {
   "cell_type": "code",
   "execution_count": 24,
   "metadata": {
    "collapsed": false
   },
   "outputs": [
    {
     "name": "stdout",
     "output_type": "stream",
     "text": [
      "[[-0.97653685 -0.12118407 -0.06154039 -0.15236462  0.00705417 -0.06810471]\n",
      " [-0.11061386  0.51580216  0.76460638 -0.01872345  0.36535076  0.05707921]\n",
      " [-0.17855726  0.50988675 -0.27578088  0.71420037 -0.20440987  0.28321747]\n",
      " [-0.04187648 -0.64564047  0.37546049  0.64629232  0.14938013 -0.02039579]\n",
      " [ 0.015986    0.20323566 -0.1602915   0.22018612  0.20793016 -0.91707659]\n",
      " [-0.01576316  0.03349187  0.41093894 -0.01328898 -0.87128428 -0.26541687]]\n",
      "[ 0.45961362  0.40517227  0.07003008  0.04402344  0.01502212  0.00613848]\n"
     ]
    }
   ],
   "source": [
    "# Apply PCA with the same number of dimensions as variables in the dataset\n",
    "from sklearn.decomposition import PCA\n",
    "pca = PCA(n_components=len(data.columns))\n",
    "pca.fit(data)\n",
    "\n",
    "# Print the components and the amount of variance in the data contained in each dimension\n",
    "print pca.components_\n",
    "print pca.explained_variance_ratio_"
   ]
  },
  {
   "cell_type": "markdown",
   "metadata": {},
   "source": [
    "**2)** How quickly does the variance drop off by dimension? If you were to use PCA on this dataset, how many dimensions would you choose for your analysis? Why?"
   ]
  },
  {
   "cell_type": "code",
   "execution_count": 25,
   "metadata": {
    "collapsed": false
   },
   "outputs": [
    {
     "data": {
      "image/png": "[encoded data removed]",
      "text/plain": [
       "<matplotlib.figure.Figure at 0x11c53c790>"
      ]
     },
     "metadata": {},
     "output_type": "display_data"
    }
   ],
   "source": [
    "import matplotlib.pyplot as plt\n",
    "\n",
    "x = np.arange(1, 7)\n",
    "plt.plot(x, np.cumsum(pca.explained_variance_ratio_), '-')\n",
    "plt.xlabel('dimensions')\n",
    "plt.ylabel('cumulative variance')\n",
    "plt.ylim([0.0, 1.0])\n",
    "plt.show()"
   ]
  },
  {
   "cell_type": "markdown",
   "metadata": {
    "collapsed": true
   },
   "source": [
    "Answer: We can see how the cumulative sum of the variance approaches 1.0 in the plot above.  If i were to use PCA on this dataset, I would choose 3 dimensions for my dimensions.  After 3 dimensions, the change in variance is less steep."
   ]
  },
  {
   "cell_type": "markdown",
   "metadata": {},
   "source": [
    "**3)** What do the dimensions seem to represent? How can you use this information?"
   ]
  },
  {
   "cell_type": "code",
   "execution_count": 26,
   "metadata": {
    "collapsed": false
   },
   "outputs": [
    {
     "data": {
      "image/png": "[encoded data removed]",
      "text/plain": [
       "<matplotlib.figure.Figure at 0x11c7a2710>"
      ]
     },
     "metadata": {},
     "output_type": "display_data"
    }
   ],
   "source": [
    "first_pc = pca.components_[0]\n",
    "second_pc = pca.components_[1]\n",
    "\n",
    "transformed_data = pca.transform(data)\n",
    "plt.close()\n",
    "for ii in transformed_data:\n",
    "    plt.scatter(first_pc[0]*ii[0], first_pc[1]*ii[0], color=\"r\")\n",
    "    plt.scatter(second_pc[0]*ii[1], second_pc[1]*ii[1], color=\"c\")\n",
    "    plt.scatter(ii[0], ii[1], color=\"b\")\n",
    "    \n",
    "plt.show()"
   ]
  },
  {
   "cell_type": "markdown",
   "metadata": {
    "collapsed": true
   },
   "source": [
    "Answer: The dimensions seem to represent the features.  We can use this information to find out which features are most useful in classifying data points.  Looking at the first two components (in red and cyan), we can see that they are orthogonal.  Let's look at the actual value of the first component:"
   ]
  },
  {
   "cell_type": "code",
   "execution_count": 28,
   "metadata": {
    "collapsed": false
   },
   "outputs": [
    {
     "name": "stdout",
     "output_type": "stream",
     "text": [
      "[-0.97653685 -0.12118407 -0.06154039 -0.15236462  0.00705417 -0.06810471]\n"
     ]
    }
   ],
   "source": [
    "print first_pc"
   ]
  },
  {
   "cell_type": "markdown",
   "metadata": {},
   "source": [
    "From these values, we can see that the first entry has the largest absolute value, and, thus, that Fresh dominates the first component.  Let's look at the second component:"
   ]
  },
  {
   "cell_type": "code",
   "execution_count": 29,
   "metadata": {
    "collapsed": false
   },
   "outputs": [
    {
     "name": "stdout",
     "output_type": "stream",
     "text": [
      "[-0.11061386  0.51580216  0.76460638 -0.01872345  0.36535076  0.05707921]\n"
     ]
    }
   ],
   "source": [
    "print second_pc"
   ]
  },
  {
   "cell_type": "markdown",
   "metadata": {},
   "source": [
    "Grocery and Milk (in that order) dominate the second component.  Hence, the distributor knows that the amount of Fresh, Grocery, and Milk that a store orders is what differentiates that store from other stores.  If two stores buy about the same amount of Fresh, then the distributor knows that the two stores will likely react the same to different changes in distribution policy."
   ]
  },
  {
   "cell_type": "markdown",
   "metadata": {},
   "source": [
    "### ICA"
   ]
  },
  {
   "cell_type": "code",
   "execution_count": 10,
   "metadata": {
    "collapsed": false
   },
   "outputs": [
    {
     "name": "stdout",
     "output_type": "stream",
     "text": [
      "[[-0.0048949  -0.00155491 -0.00561549 -0.00254501  0.00238935  0.05093904]\n",
      " [-0.05025832  0.00642593  0.00711213  0.00322074 -0.01111118  0.002774  ]\n",
      " [-0.00347637  0.01868013  0.1092834  -0.0072229  -0.13346057 -0.01606215]\n",
      " [-0.0024791   0.0127213  -0.06882174 -0.00145547  0.01315833  0.00528139]\n",
      " [-0.00194383 -0.07237771  0.05633054  0.00166814 -0.01726082  0.0169436 ]\n",
      " [-0.01092779 -0.00107241  0.00732638  0.0540558  -0.00255465 -0.01674272]]\n"
     ]
    }
   ],
   "source": [
    "# Fit an ICA model to the data\n",
    "# Note: Adjust the data to have center at the origin first!\n",
    "data_scaled = preprocessing.scale(data)\n",
    "\n",
    "from sklearn.decomposition import FastICA\n",
    "ica = FastICA()\n",
    "ica.fit(data_scaled)\n",
    "\n",
    "# Print the independent components\n",
    "print ica.components_"
   ]
  },
  {
   "cell_type": "markdown",
   "metadata": {},
   "source": [
    "**4)** For each vector in the ICA decomposition, write a sentence or two explaining what sort of object or property it corresponds to. What could these components be used for?"
   ]
  },
  {
   "cell_type": "markdown",
   "metadata": {
    "collapsed": true
   },
   "source": [
    "Answer: Each vector corresponds to a linear combination of features.  These components, or transformed features, identify fundamental features of your data that can be used for classification.  The primary feature affected by each of the first four vectors, respectively, is:\n",
    "\n",
    "* Delicatessen.  All other elements in the vector are about an order of magnitude less and thus have much less effect.\n",
    "* Fresh.  Detergents_Paper is secondary and both have the same sign.  This would would suggest that, independent of other effects, there is a correlation between Fresh and Detergents_Paper purchases.\n",
    "* Detergents_Paper.  Grocery is secondary and has a positive value compared to the negative value of Detergents_Paper.  This would would suggest that, independent of other effects, there is an anti-correlation between Detergents_Paper and Grocery purchases.\n",
    "* Grocery.  Detergents_Paper is secondary and has a positive value compared to the negative value of Grocery.  This would would suggest that, independent of other effects, there is an anti-correlation between Detergents_Paper and Grocery purchases.  This is consistent with the third vector.\n",
    "\n",
    "Our observable variables are the sales figures for each type of product for many stores.  The hidden variables are different types of customers.  ICA attempts to separate out these hidden variables from the observables.  Each of the vectors contributes to this.  The first vector helps separate into different types of customers mostly based on Delicatessen sales.  The second vector based mostly on Fresh and Detergents_Paper sales.  The third and fourth vectors based on the relationship between Detergents_Paper and Grocery sales."
   ]
  },
  {
   "cell_type": "markdown",
   "metadata": {},
   "source": [
    "## Clustering\n",
    "\n",
    "In this section you will choose either K Means clustering or Gaussian Mixed Models clustering, which implements expectation-maximization. Then you will sample elements from the clusters to understand their significance."
   ]
  },
  {
   "cell_type": "markdown",
   "metadata": {},
   "source": [
    "### Choose a Cluster Type\n",
    "\n",
    "**5)** What are the advantages of using K Means clustering or Gaussian Mixture Models?"
   ]
  },
  {
   "cell_type": "markdown",
   "metadata": {},
   "source": [
    "Answer: k-means creates 'hard' boundaries between the clusters.  That is, each data point belongs to exactly one cluster.  On the other hand, Gaussian mixture models create 'soft' boundaries.  That is, each data point belongs to a given cluster with a certain probability.\n",
    "\n",
    "* k-means clustering advantages \n",
    "    - [Cheap](http://stats.stackexchange.com/a/58857) relative to other unsupervised learning algorithms  \n",
    "    - [Scales well](http://scikit-learn.org/stable/modules/clustering.html#k-means)\n",
    "* [Gaussian mixture models advantages](http://scikit-learn.org/stable/modules/mixture.html#pros)\n",
    "    - Fastest mixture model algorithm\n",
    "    - No bias of the means towards zero\n",
    "    \n",
    "Let's use a Gaussian mixture model."
   ]
  },
  {
   "cell_type": "markdown",
   "metadata": {},
   "source": [
    "**6)** Below is some starter code to help you visualize some cluster data. The visualization is based on [this demo](http://scikit-learn.org/stable/auto_examples/cluster/plot_kmeans_digits.html) from the sklearn documentation."
   ]
  },
  {
   "cell_type": "code",
   "execution_count": 30,
   "metadata": {
    "collapsed": true
   },
   "outputs": [],
   "source": [
    "# Import clustering modules\n",
    "from sklearn.cluster import KMeans\n",
    "from sklearn.mixture import GMM"
   ]
  },
  {
   "cell_type": "code",
   "execution_count": 31,
   "metadata": {
    "collapsed": false
   },
   "outputs": [
    {
     "name": "stdout",
     "output_type": "stream",
     "text": [
      "[[  -650.02212207   1585.51909007]\n",
      " [  4426.80497937   4042.45150884]\n",
      " [  4841.9987068    2578.762176  ]\n",
      " [  -990.34643689  -6279.80599663]\n",
      " [-10657.99873116  -2159.72581518]\n",
      " [  2765.96159271   -959.87072713]\n",
      " [   715.55089221  -2013.00226567]\n",
      " [  4474.58366697   1429.49697204]\n",
      " [  6712.09539718  -2205.90915598]\n",
      " [  4823.63435407  13480.55920489]]\n"
     ]
    }
   ],
   "source": [
    "# First we reduce the data to two dimensions using PCA to capture variation\n",
    "reduced_data = PCA(n_components=2).fit_transform(data)\n",
    "print reduced_data[:10]  # print upto 10 elements"
   ]
  },
  {
   "cell_type": "code",
   "execution_count": 32,
   "metadata": {
    "collapsed": false
   },
   "outputs": [],
   "source": [
    "def create_clusters(reduced_data, n_clusters):\n",
    "    # Implement your clustering algorithm here, and fit it to the reduced data for visualization\n",
    "\n",
    "    gmm = GMM(n_clusters)\n",
    "    gmm.fit(reduced_data)\n",
    "    bic = gmm.bic(reduced_data)\n",
    "    print \"BIC: {}\\n\".format(bic)\n",
    "    \n",
    "    return gmm\n",
    "\n",
    "# Plot the decision boundary by building a mesh grid to populate a graph.\n",
    "x_min, x_max = reduced_data[:, 0].min() - 1, reduced_data[:, 0].max() + 1\n",
    "y_min, y_max = reduced_data[:, 1].min() - 1, reduced_data[:, 1].max() + 1\n",
    "hx = (x_max-x_min)/1000.\n",
    "hy = (y_max-y_min)/1000.\n",
    "xx, yy = np.meshgrid(np.arange(x_min, x_max, hx), np.arange(y_min, y_max, hy))\n",
    "\n",
    "def obtain_labels(clusters, xx, yy):\n",
    "    # Obtain labels for each point in mesh. Use last trained model.\n",
    "    Z = clusters.predict(np.c_[xx.ravel(), yy.ravel()])\n",
    "    \n",
    "    return Z\n",
    "\n",
    "def find_means(clusters):\n",
    "    # Find the centroids for KMeans or the cluster means for GMM \n",
    "    means = clusters.means_\n",
    "    \n",
    "    return means\n",
    "\n",
    "def show_plot(reduced_data, means, xx, yy, Z):\n",
    "    # Put the result into a color plot\n",
    "    Z = Z.reshape(xx.shape)\n",
    "    plt.figure(1)\n",
    "    plt.clf()\n",
    "    plt.imshow(Z, interpolation='nearest',\n",
    "               extent=(xx.min(), xx.max(), yy.min(), yy.max()),\n",
    "               cmap=plt.cm.Paired,\n",
    "               aspect='auto', origin='lower')\n",
    "\n",
    "    plt.plot(reduced_data[:, 0], reduced_data[:, 1], 'k.', markersize=2)\n",
    "    plt.scatter(means[:, 0], means[:, 1],\n",
    "                marker='x', s=169, linewidths=3,\n",
    "                color='w', zorder=10)\n",
    "    plt.title('Clustering on the wholesale grocery dataset (PCA-reduced data)\\n'\n",
    "              'Centroids are marked with white cross')\n",
    "    plt.xlim(x_min, x_max)\n",
    "    plt.ylim(y_min, y_max)\n",
    "    plt.xticks(())\n",
    "    plt.yticks(())\n",
    "    plt.show()"
   ]
  },
  {
   "cell_type": "code",
   "execution_count": 33,
   "metadata": {
    "collapsed": false
   },
   "outputs": [],
   "source": [
    "def visualize_cluster_data(n_clusters):\n",
    "    # The visualizer below assumes your clustering object is named 'clusters'\n",
    "    clusters = create_clusters(reduced_data, n_clusters)\n",
    "    print 'clusters:\\n{}\\n'.format(clusters)\n",
    "\n",
    "    Z = obtain_labels(clusters, xx, yy)\n",
    "\n",
    "    means = find_means(clusters)\n",
    "    print 'means:\\n{}\\n'.format(means)\n",
    "\n",
    "    show_plot(reduced_data, means, xx, yy, Z)\n",
    "    \n",
    "    return clusters"
   ]
  },
  {
   "cell_type": "markdown",
   "metadata": {},
   "source": [
    "Answer: First let's try 8 clusters."
   ]
  },
  {
   "cell_type": "code",
   "execution_count": 34,
   "metadata": {
    "collapsed": false
   },
   "outputs": [
    {
     "name": "stdout",
     "output_type": "stream",
     "text": [
      "BIC: 18332.5211418\n",
      "\n",
      "clusters:\n",
      "GMM(covariance_type='diag', init_params='wmc', min_covar=0.001,\n",
      "  n_components=8, n_init=1, n_iter=100, params='wmc', random_state=None,\n",
      "  thresh=None, tol=0.001, verbose=0)\n",
      "\n",
      "means:\n",
      "[[   2829.9507428    14659.30660227]\n",
      " [   -151.12360792   -7714.15800489]\n",
      " [   7566.60307177   -5577.10124456]\n",
      " [ -19499.79783393   45528.05468009]\n",
      " [-103863.42532004    9910.34962857]\n",
      " [ -26977.30325995   -8460.87224652]\n",
      " [  -5330.40325537   -1117.39324151]\n",
      " [   9430.79357562    5260.69348816]]\n",
      "\n"
     ]
    },
    {
     "data": {
      "image/png": "[encoded data removed]",
      "text/plain": [
       "<matplotlib.figure.Figure at 0x11c73aa50>"
      ]
     },
     "metadata": {},
     "output_type": "display_data"
    },
    {
     "data": {
      "text/plain": [
       "GMM(covariance_type='diag', init_params='wmc', min_covar=0.001,\n",
       "  n_components=8, n_init=1, n_iter=100, params='wmc', random_state=None,\n",
       "  thresh=None, tol=0.001, verbose=0)"
      ]
     },
     "execution_count": 34,
     "metadata": {},
     "output_type": "execute_result"
    }
   ],
   "source": [
    "visualize_cluster_data(8)"
   ]
  },
  {
   "cell_type": "markdown",
   "metadata": {},
   "source": [
    "Everything is pretty scrunched together in the lower right.  Let's try 4 clusters."
   ]
  },
  {
   "cell_type": "code",
   "execution_count": 35,
   "metadata": {
    "collapsed": false
   },
   "outputs": [
    {
     "name": "stdout",
     "output_type": "stream",
     "text": [
      "BIC: 18430.3971352\n",
      "\n",
      "clusters:\n",
      "GMM(covariance_type='diag', init_params='wmc', min_covar=0.001,\n",
      "  n_components=4, n_init=1, n_iter=100, params='wmc', random_state=None,\n",
      "  thresh=None, tol=0.001, verbose=0)\n",
      "\n",
      "means:\n",
      "[[  7174.54719282   5469.02876453]\n",
      " [  2339.15204219  -6708.93065712]\n",
      " [-15372.37194307  -3334.43379857]\n",
      " [ -9486.9742574   34645.20428228]]\n",
      "\n"
     ]
    },
    {
     "data": {
      "image/png": "[encoded data removed]",
      "text/plain": [
       "<matplotlib.figure.Figure at 0x11a693510>"
      ]
     },
     "metadata": {},
     "output_type": "display_data"
    }
   ],
   "source": [
    "gmm = visualize_cluster_data(4)"
   ]
  },
  {
   "cell_type": "markdown",
   "metadata": {},
   "source": [
    "That clustering looks better.  However, notice that they have pretty close BIC scores.  I especially like the way the tan cluster separates out the elongated set of customers.  You wouldn't be able to capture that as tightly with k-means.\n",
    "\n",
    "Let's sample 3 data points from each of the 4 clusters.  We will try to find intra-cluster similarities and inter-cluster differences."
   ]
  },
  {
   "cell_type": "code",
   "execution_count": 36,
   "metadata": {
    "collapsed": false
   },
   "outputs": [
    {
     "name": "stdout",
     "output_type": "stream",
     "text": [
      "Cluster 0:\n",
      "     Fresh   Milk  Grocery  Frozen  Detergents_Paper  Delicatessen\n",
      "94    5626  12220    11323     206              5038           244\n",
      "272    514   8323     6869     529                93          1040\n",
      "297   8090   3199     6986    1455              3712           531\n",
      "\n",
      "Cluster 1:\n",
      "     Fresh  Milk  Grocery  Frozen  Detergents_Paper  Delicatessen\n",
      "307  17327  2374     2842    1149               351           925\n",
      "322  15881   713     3315    3703              1470           229\n",
      "375   5841  1450     1162     597               476            70\n",
      "\n",
      "Cluster 2:\n",
      "     Fresh   Milk  Grocery  Frozen  Detergents_Paper  Delicatessen\n",
      "282  49063   3965     4252    5970              1041          1404\n",
      "373  15076   6257     7398    1504              1916          3113\n",
      "427  31012  16687     5429   15082               439          1163\n",
      "\n",
      "Cluster 3:\n",
      "     Fresh   Milk  Grocery  Frozen  Detergents_Paper  Delicatessen\n",
      "211  12119  28326    39694    4736             19410          2870\n",
      "251   6134  23133    33586    6746             18594          5121\n",
      "333   8565   4980    67298     131             38102          1215\n",
      "\n"
     ]
    }
   ],
   "source": [
    "Z = gmm.predict(reduced_data)\n",
    "def get_sample(Z, label):\n",
    "    cluster_indices = np.where(Z == label)[0]\n",
    "    cluster_indices = np.random.choice(cluster_indices, size=3, replace=False)\n",
    "    indices = cluster_indices.tolist()\n",
    "    indices.sort()\n",
    "    \n",
    "    return data.iloc[indices, :]\n",
    "    \n",
    "for i in range(4):\n",
    "    print \"Cluster {}:\\n{}\\n\".format(i, get_sample(Z, i))"
   ]
  },
  {
   "cell_type": "markdown",
   "metadata": {},
   "source": [
    "I find it a little hard to distinguish exactly what is going on from looking at these samples.  Also, I tend to be skeptical whether a sample of 3 from each cluster is large enough to draw conclusions.  Let's look at the mean and variance of all the data points in each cluster."
   ]
  },
  {
   "cell_type": "code",
   "execution_count": 38,
   "metadata": {
    "collapsed": false
   },
   "outputs": [
    {
     "name": "stdout",
     "output_type": "stream",
     "text": [
      "Cluster 0 mean:\n",
      "Fresh                4393.328671\n",
      "Milk                 8573.510490\n",
      "Grocery             12364.937063\n",
      "Frozen               1803.139860\n",
      "Detergents_Paper     5123.552448\n",
      "Delicatessen         1423.433566\n",
      "dtype: float64\n",
      "\n",
      "Cluster 1 mean:\n",
      "Fresh               10142.481132\n",
      "Milk                 2133.806604\n",
      "Grocery              2548.066038\n",
      "Frozen               3065.603774\n",
      "Detergents_Paper      506.438679\n",
      "Delicatessen          959.080189\n",
      "dtype: float64\n",
      "\n",
      "Cluster 2 mean:\n",
      "Fresh               32527.764706\n",
      "Milk                 5569.102941\n",
      "Grocery              7539.838235\n",
      "Frozen               5378.044118\n",
      "Detergents_Paper     1685.500000\n",
      "Delicatessen         2350.205882\n",
      "dtype: float64\n",
      "\n",
      "Cluster 3 mean:\n",
      "Fresh               17046.529412\n",
      "Milk                29016.411765\n",
      "Grocery             39851.588235\n",
      "Frozen               4599.176471\n",
      "Detergents_Paper    18424.117647\n",
      "Delicatessen         6132.529412\n",
      "dtype: float64\n",
      "\n"
     ]
    }
   ],
   "source": [
    "def get_pop(Z, label):\n",
    "    cluster_indices = np.where(Z == label)[0]\n",
    "    indices = cluster_indices.tolist()\n",
    "    \n",
    "    return data.iloc[indices, :]\n",
    "    \n",
    "for i in range(4):\n",
    "    pop = get_pop(Z, i)\n",
    "    mean = pop.mean()\n",
    "    print \"Cluster {} mean:\".format(i)\n",
    "    print mean\n",
    "    print"
   ]
  },
  {
   "cell_type": "markdown",
   "metadata": {},
   "source": [
    "Cluster 0 seems to represent small grocery stores.  Note that it sells more groceries than other types of products, but it does not sell as many groceries as, say, Cluster 3.\n",
    "\n",
    "Cluster 1 sells a lot fresh food compared to other types of products, but does not sell as much fresh food as Cluster 2 or Cluster 3.  I would venture to guess that Cluster 1 contains organic food co-ops.\n",
    "\n",
    "Cluster 2 is similar to Cluster 1, but bigger.  I would guess that it might contain organic chain stores, such as Whole Foods or Trader Joe's.\n",
    "\n",
    "Finally, stores in Cluster 3 sell a lot of everything.  I would guess that this cluster contains mostly chain supermarkets, such as Cub Foods or Safeway."
   ]
  },
  {
   "cell_type": "markdown",
   "metadata": {},
   "source": [
    "**7)** What are the central objects in each cluster? Describe them as customers."
   ]
  },
  {
   "cell_type": "markdown",
   "metadata": {
    "collapsed": true
   },
   "source": [
    "Answer: The central objects in each cluster are the centroids.  You can think of them as an average customer within that cluster."
   ]
  },
  {
   "cell_type": "markdown",
   "metadata": {},
   "source": [
    "### Conclusions\n",
    "\n",
    "** 8)** Which of these techniques did you feel gave you the most insight into the data?"
   ]
  },
  {
   "cell_type": "markdown",
   "metadata": {
    "collapsed": true
   },
   "source": [
    "Answer: *Plotting* the output of the Gaussian mixture models algorithm gave me the most insight into the data.  I think plots always give you more insight than raw numbers or tables.  I think GMM worked best here because the all the features are continuous and the distributions of the features are probably Gaussian.  You can see this in the plots (although there are long tails going to the left and up in the plots).  GMM with four clusters nicely differentiated the data (especially in the elongated, tan cluster).  I actually first tried k-means but the clusters seemed much more random."
   ]
  },
  {
   "cell_type": "markdown",
   "metadata": {
    "collapsed": true
   },
   "source": [
    "**9)** How would you use that technique to help the company design new experiments?"
   ]
  },
  {
   "cell_type": "markdown",
   "metadata": {},
   "source": [
    "Answer: When conducting a new experiment on a possible change, I would use four small samples of customers with one sample drawn from each cluster.  With these four samples, I could see how each of the four clusters would react to the change.  From those results, I could generalize to the clusters as a whole.  If the sample from a cluster liked the change, I could implement the change for all members of the cluster.\n",
    "\n",
    "For example, consider our original problem of changing from a regular morning delivery to a cheaper, bulk evening delivery.  The highest volume customers had an easy time adapting to the change, whereas smaller, family-run shops had serious issues with it.  It would have made sense to try the change in delivery time with a sample from each cluster.  If the change went well for the sample from a particular cluster, it would make sense to consider implementing the change for all the members of that cluster.  Similarly, If the change didn't go well for the sample from a particular cluster, it would make sense to not implement the change for the members of that cluster."
   ]
  },
  {
   "cell_type": "markdown",
   "metadata": {},
   "source": [
    "**10)** How would you use that data to help you predict future customer needs?"
   ]
  },
  {
   "cell_type": "markdown",
   "metadata": {},
   "source": [
    "Answer: Every time we get a new customer, we could have the GMM model label the customer.  We would then know that customer policies, such as delivery times, that worked well with the current customers with that label would probably also work well with the new customer.  Similarly, customer policies that didn't work well with the current customers with that label would probably also not work well with the new customer."
   ]
  }
 ],
 "metadata": {
  "kernelspec": {
   "display_name": "Python 2",
   "language": "python",
   "name": "python2"
  },
  "language_info": {
   "codemirror_mode": {
    "name": "ipython",
    "version": 2
   },
   "file_extension": ".py",
   "mimetype": "text/x-python",
   "name": "python",
   "nbconvert_exporter": "python",
   "pygments_lexer": "ipython2",
   "version": "2.7.11"
  }
 },
 "nbformat": 4,
 "nbformat_minor": 0
}
