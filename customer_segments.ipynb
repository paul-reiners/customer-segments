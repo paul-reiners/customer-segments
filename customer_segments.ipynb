{
 "cells": [
  {
   "cell_type": "markdown",
   "metadata": {},
   "source": [
    "# Creating Customer Segments"
   ]
  },
  {
   "cell_type": "markdown",
   "metadata": {},
   "source": [
    "In this project you, will analyze a dataset containing annual spending amounts for internal structure, to understand the variation in the different types of customers that a wholesale distributor interacts with.\n",
    "\n",
    "Instructions:\n",
    "\n",
    "- Run each code block below by pressing **Shift+Enter**, making sure to implement any steps marked with a TODO.\n",
    "- Answer each question in the space provided by editing the blocks labeled \"Answer:\".\n",
    "- When you are done, submit the completed notebook (.ipynb) with all code blocks executed, as well as a .pdf version (File > Download as)."
   ]
  },
  {
   "cell_type": "code",
   "execution_count": 23,
   "metadata": {
    "collapsed": false
   },
   "outputs": [
    {
     "name": "stdout",
     "output_type": "stream",
     "text": [
      "Dataset has 440 rows, 6 columns\n",
      "   Fresh  Milk  Grocery  Frozen  Detergents_Paper  Delicatessen\n",
      "0  12669  9656     7561     214              2674          1338\n",
      "1   7057  9810     9568    1762              3293          1776\n",
      "2   6353  8808     7684    2405              3516          7844\n",
      "3  13265  1196     4221    6404               507          1788\n",
      "4  22615  5410     7198    3915              1777          5185\n"
     ]
    }
   ],
   "source": [
    "# Import libraries: NumPy, pandas, matplotlib\n",
    "import numpy as np\n",
    "import pandas as pd\n",
    "import matplotlib.pyplot as plt\n",
    "from sklearn import preprocessing\n",
    "\n",
    "# Tell iPython to include plots inline in the notebook\n",
    "%matplotlib inline\n",
    "\n",
    "# Read dataset\n",
    "data = pd.read_csv(\"wholesale-customers.csv\")\n",
    "print \"Dataset has {} rows, {} columns\".format(*data.shape)\n",
    "print data.head()  # print the first 5 rows"
   ]
  },
  {
   "cell_type": "markdown",
   "metadata": {},
   "source": [
    "## Feature Transformation"
   ]
  },
  {
   "cell_type": "markdown",
   "metadata": {},
   "source": [
    "**1)** In this section you will be using PCA and ICA to start to understand the structure of the data. Before doing any computations, what do you think will show up in your computations? List one or two ideas for what might show up as the first PCA dimensions, or what type of vectors will show up as ICA dimensions."
   ]
  },
  {
   "cell_type": "markdown",
   "metadata": {},
   "source": [
    "Answer:  The features that maximize variance might show up as the first PCA dimensions.  Let's calculate the variance of each feature.  "
   ]
  },
  {
   "cell_type": "code",
   "execution_count": 34,
   "metadata": {
    "collapsed": false
   },
   "outputs": [
    {
     "name": "stdout",
     "output_type": "stream",
     "text": [
      "Fresh               0.012718\n",
      "Milk                0.010098\n",
      "Grocery             0.010492\n",
      "Frozen              0.006366\n",
      "Detergents_Paper    0.013640\n",
      "Delicatessen        0.003460\n",
      "dtype: float64\n"
     ]
    }
   ],
   "source": [
    "normalized_data = (data - data.mean()) / (data.max() - data.min())\n",
    "var = normalized_data.var()\n",
    "print var"
   ]
  },
  {
   "cell_type": "markdown",
   "metadata": {},
   "source": [
    "After [normalizing](http://stackoverflow.com/a/12525836/7648) we can see that Detergents_Paper has the highest variance.  So Detergents_Paper will be the first principal component.  Let's now [compute the covariance of Detergents_Paper with the other features]((http://stackoverflow.com/a/32787030/7648))."
   ]
  },
  {
   "cell_type": "code",
   "execution_count": 41,
   "metadata": {
    "collapsed": false
   },
   "outputs": [
    {
     "name": "stdout",
     "output_type": "stream",
     "text": [
      "Delicatessen    0.000476\n",
      "Fresh          -0.001343\n",
      "Frozen         -0.001226\n",
      "Grocery         0.011061\n",
      "Milk            0.007767\n",
      "dtype: float64\n"
     ]
    }
   ],
   "source": [
    "detergents_paper = 'Detergents_Paper'  \n",
    "s = pd.Series({grocery_type: normalized_data[detergents_paper].cov(normalized_data[grocery_type]) \n",
    "               for grocery_type in normalized_data \n",
    "               if grocery_type != detergents_paper})\n",
    "print s"
   ]
  },
  {
   "cell_type": "markdown",
   "metadata": {},
   "source": [
    "Here we can see that Grocery has the most covariance with Detergents_Paper.  So Detergents_Paper and Grocery are probably the first two principal components.  I found the article [\"Principal Component Analysis\"](https://stat.ethz.ch/education/semesters/ss2012/ams/slides/v5.pdf) helpful in answering this. \n",
    "\n",
    "Linear combinations of the features will show up as ICA dimensions.  These new features will maximize independence.  Each vector in this data set will be some linear combination of Fresh, Milk, Grocery, Frozen,Detergents_Paper, and Delicatessen."
   ]
  },
  {
   "cell_type": "markdown",
   "metadata": {},
   "source": [
    "### PCA "
   ]
  },
  {
   "cell_type": "code",
   "execution_count": 4,
   "metadata": {
    "collapsed": false
   },
   "outputs": [
    {
     "name": "stdout",
     "output_type": "stream",
     "text": [
      "[[-0.97653685 -0.12118407 -0.06154039 -0.15236462  0.00705417 -0.06810471]\n",
      " [-0.11061386  0.51580216  0.76460638 -0.01872345  0.36535076  0.05707921]\n",
      " [-0.17855726  0.50988675 -0.27578088  0.71420037 -0.20440987  0.28321747]\n",
      " [-0.04187648 -0.64564047  0.37546049  0.64629232  0.14938013 -0.02039579]\n",
      " [ 0.015986    0.20323566 -0.1602915   0.22018612  0.20793016 -0.91707659]\n",
      " [-0.01576316  0.03349187  0.41093894 -0.01328898 -0.87128428 -0.26541687]]\n",
      "[ 0.45961362  0.40517227  0.07003008  0.04402344  0.01502212  0.00613848]\n"
     ]
    }
   ],
   "source": [
    "# Apply PCA with the same number of dimensions as variables in the dataset\n",
    "from sklearn.decomposition import PCA\n",
    "pca = PCA(n_components=len(data.columns))\n",
    "pca.fit(data)\n",
    "\n",
    "# Print the components and the amount of variance in the data contained in each dimension\n",
    "print pca.components_\n",
    "print pca.explained_variance_ratio_"
   ]
  },
  {
   "cell_type": "markdown",
   "metadata": {},
   "source": [
    "**2)** How quickly does the variance drop off by dimension? If you were to use PCA on this dataset, how many dimensions would you choose for your analysis? Why?"
   ]
  },
  {
   "cell_type": "code",
   "execution_count": 52,
   "metadata": {
    "collapsed": false
   },
   "outputs": [
    {
     "data": {
      "image/png": "[encoded data removed]",
      "text/plain": [
       "<matplotlib.figure.Figure at 0x11a5e6250>"
      ]
     },
     "metadata": {},
     "output_type": "display_data"
    }
   ],
   "source": [
    "import matplotlib.pyplot as plt\n",
    "\n",
    "x = np.arange(1, 7)\n",
    "plt.plot(x, np.cumsum(pca.explained_variance_ratio_), '-')\n",
    "plt.xlabel('dimensions')\n",
    "plt.ylabel('cumulative variance')\n",
    "plt.ylim([0.0, 1.0])\n",
    "plt.show()"
   ]
  },
  {
   "cell_type": "markdown",
   "metadata": {
    "collapsed": true
   },
   "source": [
    "Answer: We can see how the cumulative sum of the variance approaches 1.0 in the plot above.  If i were to use PCA on this dataset, I would choose 3 dimensions for my dimensions.  After 3 dimensions, the change in variance is less steep."
   ]
  },
  {
   "cell_type": "markdown",
   "metadata": {},
   "source": [
    "**3)** What do the dimensions seem to represent? How can you use this information?"
   ]
  },
  {
   "cell_type": "code",
   "execution_count": 54,
   "metadata": {
    "collapsed": false
   },
   "outputs": [
    {
     "data": {
      "image/png": "[encoded data removed]",
      "text/plain": [
       "<matplotlib.figure.Figure at 0x11c15ed90>"
      ]
     },
     "metadata": {},
     "output_type": "display_data"
    }
   ],
   "source": [
    "first_pc = pca.components_[0]\n",
    "second_pc = pca.components_[1]\n",
    "\n",
    "transformed_data = pca.transform(data)\n",
    "plt.close()\n",
    "for ii in transformed_data:\n",
    "    plt.scatter(first_pc[0]*ii[0], first_pc[1]*ii[0], color=\"r\")\n",
    "    plt.scatter(second_pc[0]*ii[1], second_pc[1]*ii[1], color=\"c\")\n",
    "    plt.scatter(ii[0], ii[1], color=\"b\")\n",
    "    \n",
    "plt.show()"
   ]
  },
  {
   "cell_type": "markdown",
   "metadata": {
    "collapsed": true
   },
   "source": [
    "Answer: The dimensions seem to represent the features.  We can use this information to find out which features are most useful in classifying data points.  Looking at the first two components (in red and cyan), we can see that they are orthogonal.  Let's look at the actual value of the first component:"
   ]
  },
  {
   "cell_type": "code",
   "execution_count": 55,
   "metadata": {
    "collapsed": false
   },
   "outputs": [
    {
     "name": "stdout",
     "output_type": "stream",
     "text": [
      "[-0.97653685 -0.12118407 -0.06154039 -0.15236462  0.00705417 -0.06810471]\n"
     ]
    }
   ],
   "source": [
    "print first_pc"
   ]
  },
  {
   "cell_type": "markdown",
   "metadata": {},
   "source": [
    "From these values, we can see that the first entry has the largest absolute value, and, thus, that Fresh dominates the first component.  Let's look at the second component:"
   ]
  },
  {
   "cell_type": "code",
   "execution_count": 56,
   "metadata": {
    "collapsed": false
   },
   "outputs": [
    {
     "name": "stdout",
     "output_type": "stream",
     "text": [
      "[-0.11061386  0.51580216  0.76460638 -0.01872345  0.36535076  0.05707921]\n"
     ]
    }
   ],
   "source": [
    "print second_pc"
   ]
  },
  {
   "cell_type": "markdown",
   "metadata": {},
   "source": [
    "Grocery and Milk (in that order) dominate the second component.  Hence, the distributor knows that the amount of Fresh, Grocery, and Milk that a store orders is what differentiates that store from other stores.  If two stores buy about the same amount of Fresh, then the distributor knows that the two stores will likely react the same to different changes in distribution policy."
   ]
  },
  {
   "cell_type": "markdown",
   "metadata": {},
   "source": [
    "### ICA"
   ]
  },
  {
   "cell_type": "code",
   "execution_count": 8,
   "metadata": {
    "collapsed": false
   },
   "outputs": [
    {
     "name": "stdout",
     "output_type": "stream",
     "text": [
      "[[ 0.00193392  0.07260048 -0.0550773  -0.00177143  0.01567576 -0.01707414]\n",
      " [-0.01093125 -0.00103289  0.00735043  0.05404891 -0.00265168 -0.01676763]\n",
      " [-0.00380912  0.01686284  0.11490758 -0.00708014 -0.13437409 -0.01615161]\n",
      " [ 0.05022515 -0.00631934 -0.00583923 -0.00328896  0.00972125 -0.00295345]\n",
      " [-0.0048809  -0.00161848 -0.00571174 -0.00253184  0.00243239  0.05096603]\n",
      " [ 0.00267466 -0.0139774   0.06025118  0.00204262 -0.00298658 -0.00399475]]\n"
     ]
    }
   ],
   "source": [
    "# Fit an ICA model to the data\n",
    "# Note: Adjust the data to have center at the origin first!\n",
    "data_scaled = preprocessing.scale(data)\n",
    "\n",
    "from sklearn.decomposition import FastICA\n",
    "ica = FastICA()\n",
    "ica.fit(data_scaled)\n",
    "\n",
    "# Print the independent components\n",
    "print ica.components_"
   ]
  },
  {
   "cell_type": "markdown",
   "metadata": {},
   "source": [
    "**4)** For each vector in the ICA decomposition, write a sentence or two explaining what sort of object or property it corresponds to. What could these components be used for?"
   ]
  },
  {
   "cell_type": "markdown",
   "metadata": {
    "collapsed": true
   },
   "source": [
    "Answer: Each vector corresponds to a linear combination of features.  These components, or transformed features, identify fundamental features of your data that can be used for classification.  The primary feature affected by each of the first four vectors, respectively, is:\n",
    "\n",
    "* Milk\n",
    "* Frozen\n",
    "* Detergents_Paper\n",
    "* Fresh"
   ]
  },
  {
   "cell_type": "markdown",
   "metadata": {},
   "source": [
    "## Clustering\n",
    "\n",
    "In this section you will choose either K Means clustering or Gaussian Mixed Models clustering, which implements expectation-maximization. Then you will sample elements from the clusters to understand their significance."
   ]
  },
  {
   "cell_type": "markdown",
   "metadata": {},
   "source": [
    "### Choose a Cluster Type\n",
    "\n",
    "**5)** What are the advantages of using K Means clustering or Gaussian Mixture Models?"
   ]
  },
  {
   "cell_type": "markdown",
   "metadata": {},
   "source": [
    "Answer: K Means creates 'hard' boundaries between the clusters.  That is, each data point belongs to exactly one cluster.  On the other hand, Gaussian Mixture Models create 'soft' boundaries.  That is, each data point belongs to a given cluster with a certain probability.\n",
    "\n",
    "* k-means clustering advantages \n",
    "    - [Cheap](http://stats.stackexchange.com/a/58857) relative to other unsupervised learning algorithms  \n",
    "    - [Scales well](http://scikit-learn.org/stable/modules/clustering.html#k-means)\n",
    "* [Gaussian mixture models advantages](http://scikit-learn.org/stable/modules/mixture.html#pros)\n",
    "    - Fastest mixture model algorithm\n",
    "    - No bias of the means towards zero\n",
    "    \n",
    "The distribution of each feature across stores is undoubtedly Gaussian.  So let's use a Gaussian Mixture Model."
   ]
  },
  {
   "cell_type": "markdown",
   "metadata": {},
   "source": [
    "**6)** Below is some starter code to help you visualize some cluster data. The visualization is based on [this demo](http://scikit-learn.org/stable/auto_examples/cluster/plot_kmeans_digits.html) from the sklearn documentation."
   ]
  },
  {
   "cell_type": "code",
   "execution_count": 58,
   "metadata": {
    "collapsed": true
   },
   "outputs": [],
   "source": [
    "# Import clustering modules\n",
    "from sklearn.cluster import KMeans\n",
    "from sklearn.mixture import GMM"
   ]
  },
  {
   "cell_type": "code",
   "execution_count": 59,
   "metadata": {
    "collapsed": false
   },
   "outputs": [
    {
     "name": "stdout",
     "output_type": "stream",
     "text": [
      "[[  -650.02212207   1585.51909007]\n",
      " [  4426.80497937   4042.45150884]\n",
      " [  4841.9987068    2578.762176  ]\n",
      " [  -990.34643689  -6279.80599663]\n",
      " [-10657.99873116  -2159.72581518]\n",
      " [  2765.96159271   -959.87072713]\n",
      " [   715.55089221  -2013.00226567]\n",
      " [  4474.58366697   1429.49697204]\n",
      " [  6712.09539718  -2205.90915598]\n",
      " [  4823.63435407  13480.55920489]]\n"
     ]
    }
   ],
   "source": [
    "# First we reduce the data to two dimensions using PCA to capture variation\n",
    "reduced_data = PCA(n_components=2).fit_transform(data)\n",
    "print reduced_data[:10]  # print upto 10 elements"
   ]
  },
  {
   "cell_type": "code",
   "execution_count": 100,
   "metadata": {
    "collapsed": true
   },
   "outputs": [],
   "source": [
    "def create_clusters(reduced_data, n_clusters):\n",
    "    # Implement your clustering algorithm here, and fit it to the reduced data for visualization\n",
    "\n",
    "    gmm = GMM(n_clusters)\n",
    "    gmm.fit(reduced_data)\n",
    "    bic = gmm.bic(reduced_data)\n",
    "    print \"BIC: {}\\n\".format(bic)\n",
    "    \n",
    "    return gmm\n",
    "\n",
    "# Plot the decision boundary by building a mesh grid to populate a graph.\n",
    "x_min, x_max = reduced_data[:, 0].min() - 1, reduced_data[:, 0].max() + 1\n",
    "y_min, y_max = reduced_data[:, 1].min() - 1, reduced_data[:, 1].max() + 1\n",
    "hx = (x_max-x_min)/1000.\n",
    "hy = (y_max-y_min)/1000.\n",
    "xx, yy = np.meshgrid(np.arange(x_min, x_max, hx), np.arange(y_min, y_max, hy))\n",
    "\n",
    "def obtain_labels(clusters, xx, yy):\n",
    "    # Obtain labels for each point in mesh. Use last trained model.\n",
    "    Z = clusters.predict(np.c_[xx.ravel(), yy.ravel()])\n",
    "    \n",
    "    return Z\n",
    "\n",
    "def find_means(clusters):\n",
    "    # Find the centroids for KMeans or the cluster means for GMM \n",
    "    means = clusters.means_\n",
    "    \n",
    "    return means\n",
    "\n",
    "def show_plot(reduced_data, means, xx, yy, Z):\n",
    "    # Put the result into a color plot\n",
    "    Z = Z.reshape(xx.shape)\n",
    "    plt.figure(1)\n",
    "    plt.clf()\n",
    "    plt.imshow(Z, interpolation='nearest',\n",
    "               extent=(xx.min(), xx.max(), yy.min(), yy.max()),\n",
    "               cmap=plt.cm.Paired,\n",
    "               aspect='auto', origin='lower')\n",
    "\n",
    "    plt.plot(reduced_data[:, 0], reduced_data[:, 1], 'k.', markersize=2)\n",
    "    plt.scatter(means[:, 0], means[:, 1],\n",
    "                marker='x', s=169, linewidths=3,\n",
    "                color='w', zorder=10)\n",
    "    plt.title('Clustering on the wholesale grocery dataset (PCA-reduced data)\\n'\n",
    "              'Centroids are marked with white cross')\n",
    "    plt.xlim(x_min, x_max)\n",
    "    plt.ylim(y_min, y_max)\n",
    "    plt.xticks(())\n",
    "    plt.yticks(())\n",
    "    plt.show()"
   ]
  },
  {
   "cell_type": "code",
   "execution_count": 97,
   "metadata": {
    "collapsed": false
   },
   "outputs": [],
   "source": [
    "def visualize_cluster_data(n_clusters):\n",
    "    # The visualizer below assumes your clustering object is named 'clusters'\n",
    "    clusters = create_clusters(reduced_data, n_clusters)\n",
    "    print 'clusters:\\n{}\\n'.format(clusters)\n",
    "\n",
    "    Z = obtain_labels(clusters, xx, yy)\n",
    "\n",
    "    means = find_means(clusters)\n",
    "    print 'means:\\n{}\\n'.format(means)\n",
    "\n",
    "    show_plot(reduced_data, means, xx, yy, Z)"
   ]
  },
  {
   "cell_type": "markdown",
   "metadata": {},
   "source": [
    "Answer: First let's try 8 clusters."
   ]
  },
  {
   "cell_type": "code",
   "execution_count": 101,
   "metadata": {
    "collapsed": false
   },
   "outputs": [
    {
     "name": "stdout",
     "output_type": "stream",
     "text": [
      "BIC: 18333.8912857\n",
      "\n",
      "clusters:\n",
      "GMM(covariance_type='diag', init_params='wmc', min_covar=0.001,\n",
      "  n_components=8, n_init=1, n_iter=100, params='wmc', random_state=None,\n",
      "  thresh=None, tol=0.001, verbose=0)\n",
      "\n",
      "means:\n",
      "[[   9411.6943266     5523.30630684]\n",
      " [    632.23739996   -7651.99164235]\n",
      " [ -26034.94927092   -8382.88620073]\n",
      " [ -20299.77999669   45610.30148658]\n",
      " [   7604.83989961   -5211.3217947 ]\n",
      " [   2739.95509311   15222.20658559]\n",
      " [-103863.42532004    9910.34962857]\n",
      " [  -5353.77845728   -1046.12512794]]\n",
      "\n"
     ]
    },
    {
     "data": {
      "image/png": "[encoded data removed]",
      "text/plain": [
       "<matplotlib.figure.Figure at 0x102404750>"
      ]
     },
     "metadata": {},
     "output_type": "display_data"
    }
   ],
   "source": [
    "visualize_cluster_data(8)"
   ]
  },
  {
   "cell_type": "markdown",
   "metadata": {},
   "source": [
    "Everything is pretty scrunched together in the lower right.  Let's try 4 clusters."
   ]
  },
  {
   "cell_type": "code",
   "execution_count": 102,
   "metadata": {
    "collapsed": false
   },
   "outputs": [
    {
     "name": "stdout",
     "output_type": "stream",
     "text": [
      "BIC: 18429.8190125\n",
      "\n",
      "clusters:\n",
      "GMM(covariance_type='diag', init_params='wmc', min_covar=0.001,\n",
      "  n_components=4, n_init=1, n_iter=100, params='wmc', random_state=None,\n",
      "  thresh=None, tol=0.001, verbose=0)\n",
      "\n",
      "means:\n",
      "[[  2341.91581386  -6740.06764864]\n",
      " [  7182.53397713   5387.71076378]\n",
      " [-15199.82818711  -3344.91243313]\n",
      " [ -9402.7875529   34469.84770553]]\n",
      "\n"
     ]
    },
    {
     "data": {
      "image/png": "[encoded data removed]",
      "text/plain": [
       "<matplotlib.figure.Figure at 0x11bebc350>"
      ]
     },
     "metadata": {},
     "output_type": "display_data"
    }
   ],
   "source": [
    "visualize_cluster_data(4)"
   ]
  },
  {
   "cell_type": "markdown",
   "metadata": {},
   "source": [
    "That clustering looks better.  I especially like the way the light blue cluster separates out the elongated set of customers.  You wouldn't be able to capture that as tightly with k-means.  However, notice that they have pretty close BIC scores."
   ]
  },
  {
   "cell_type": "markdown",
   "metadata": {},
   "source": [
    "**7)** What are the central objects in each cluster? Describe them as customers."
   ]
  },
  {
   "cell_type": "markdown",
   "metadata": {
    "collapsed": true
   },
   "source": [
    "Answer: The central objects in each cluster are the centroids.  You can think of them as an average customer within that cluster."
   ]
  },
  {
   "cell_type": "markdown",
   "metadata": {},
   "source": [
    "### Conclusions\n",
    "\n",
    "** 8)** Which of these techniques did you feel gave you the most insight into the data?"
   ]
  },
  {
   "cell_type": "markdown",
   "metadata": {
    "collapsed": true
   },
   "source": [
    "Answer: Plotting the output of the k-means algorithm gave me the most insight into the data."
   ]
  },
  {
   "cell_type": "markdown",
   "metadata": {
    "collapsed": true
   },
   "source": [
    "**9)** How would you use that technique to help the company design new experiments?"
   ]
  },
  {
   "cell_type": "markdown",
   "metadata": {},
   "source": [
    "Answer: When designing new experiments, I would use only a small sample of customers from each cluster in my experiment.  "
   ]
  },
  {
   "cell_type": "markdown",
   "metadata": {},
   "source": [
    "**10)** How would you use that data to help you predict future customer needs?"
   ]
  },
  {
   "cell_type": "markdown",
   "metadata": {},
   "source": [
    "Answer: I would use the experiment's result for the sample in each cluster to generalize and help predict future customer needs for all the customers in that cluster."
   ]
  }
 ],
 "metadata": {
  "kernelspec": {
   "display_name": "Python 2",
   "language": "python",
   "name": "python2"
  },
  "language_info": {
   "codemirror_mode": {
    "name": "ipython",
    "version": 2
   },
   "file_extension": ".py",
   "mimetype": "text/x-python",
   "name": "python",
   "nbconvert_exporter": "python",
   "pygments_lexer": "ipython2",
   "version": "2.7.11"
  }
 },
 "nbformat": 4,
 "nbformat_minor": 0
}
